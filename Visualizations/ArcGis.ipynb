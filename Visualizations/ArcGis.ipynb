{
 "cells": [
  {
   "cell_type": "code",
   "execution_count": 3,
   "id": "8847c135dc63d01a",
   "metadata": {
    "ExecuteTime": {
     "end_time": "2024-06-01T19:07:34.497475800Z",
     "start_time": "2024-06-01T19:07:34.490499100Z"
    }
   },
   "outputs": [],
   "source": [
    "import arcgis\n",
    "import json\n",
    "import time as tm\n",
    "import numpy as np\n",
    "import sqlite3\n",
    "import logging\n",
    "import networkx as nx\n",
    "import matplotlib.pyplot as plt\n",
    "from pathlib import Path\n",
    "from arcgis.gis import GIS\n",
    "from arcgis.geometry import Point, Polyline, Polygon"
   ]
  },
  {
   "cell_type": "code",
   "execution_count": 4,
   "id": "ed85cf91",
   "metadata": {
    "ExecuteTime": {
     "end_time": "2024-06-02T13:11:25.617380900Z",
     "start_time": "2024-06-02T13:11:25.596380600Z"
    }
   },
   "outputs": [],
   "source": [
    "def find_project_root(search_filename=\".git\"):\n",
    "    \"\"\"\n",
    "    Find the root directory of the project by looking for a specific file or directory.\n",
    "\n",
    "    :param search_filename: The filename or directory to look for to identify the project root.\n",
    "                            Defaults to '.git'.\n",
    "    :return: The absolute path to the root directory of the project.\n",
    "    \"\"\"\n",
    "    current_path = Path(__file__).resolve()\n",
    "\n",
    "    for parent in current_path.parents:\n",
    "        if (parent / search_filename).exists():\n",
    "            return parent\n",
    "\n",
    "    raise FileNotFoundError(f\"Could not find the project root containing {search_filename}\")"
   ]
  },
  {
   "cell_type": "code",
   "execution_count": 5,
   "id": "initial_id",
   "metadata": {},
   "outputs": [],
   "source": [
    "logging.basicConfig(filename='line_matching.log', level=logging.INFO,\n",
    "                    format='%(asctime)s - %(levelname)s - %(message)s')\n",
    "\n",
    "\n",
    "class ShortestPath:\n",
    "\n",
    "    @staticmethod\n",
    "    def dijkstra(graph: list, start: int, end: int) -> tuple:\n",
    "        \"\"\"\n",
    "        Dijkstra's algorithm for finding the shortest path in a graph.\n",
    "        :param graph: a graph of nodes in adjacency matrix form\n",
    "        :param start: source\n",
    "        :param end: target\n",
    "        :return: list of shortest distances from node 0 to the last node\n",
    "        \"\"\"\n",
    "\n",
    "        # noinspection PyTypeChecker\n",
    "        def reconstruct(distances: list, start: int, end: int) -> list:\n",
    "            \"\"\"\n",
    "            Dijkstra helper function. From a given list of shortest connections returns full path.\n",
    "            :param distances: List of dictionaries containing node number (\"node\") and list of [from which node,total distance] (\"val\")\n",
    "            :param start: source\n",
    "            :param end: target\n",
    "            :return: reconstructed path\n",
    "            \"\"\"\n",
    "            path = []\n",
    "            curr = distances[end]  # set the pointer at the last node of the path\n",
    "            while str(curr[\"val\"][\n",
    "                          0]) != '':  # from the last node add the values of \"val\"[0] key that keep track of the shortest path available.\n",
    "                path.append(curr[\"node\"])\n",
    "                curr = distances[curr[\"val\"][0]]\n",
    "            path.append(start)\n",
    "            path.reverse()\n",
    "            return path\n",
    "\n",
    "        unvisited = set()  # set containing all unvisited nodes\n",
    "        reachable=[x for x in graph if x.count(0)<len(graph)] # temporary fix\n",
    "        visited = []\n",
    "        for j in range(len(graph)):\n",
    "            unvisited.add(j)\n",
    "        distances = []\n",
    "        for i in range(len(graph)):\n",
    "            if i == start:\n",
    "                distances.append({\"node\": i, \"val\": ['', 0]})\n",
    "            else:\n",
    "                distances.append({\"node\": i, \"val\": ['',\n",
    "                                                     'inf']})  # every node as a dictionary with \"val\" being an array [from which node,total distance]\n",
    "        current = start\n",
    "        prev=[]\n",
    "        while unvisited:  # searching process will continue until it checks all the nodes\n",
    "            if current not in prev:\n",
    "                prev.append(current)\n",
    "            neighbors = [i for i in range(len(graph[current])) if (graph[current][i] != 0 and i in unvisited)]\n",
    "            for node in neighbors: # consider all neighboring nodes\n",
    "                dist = distances[node][\"val\"][1]\n",
    "                new_dist = distances[current][\"val\"][1] + graph[current][node]  # calculate the distance from the current node to each neighbor\n",
    "                if dist == 'inf' or new_dist < dist:  # if the new path is shorter, switch\n",
    "                    distances[node][\"val\"][1] = new_dist\n",
    "                    distances[node][\"val\"][0] = current\n",
    "            unvisited.remove(current)  # remove current node from unvisited\n",
    "            if current not in visited:\n",
    "                visited.append(current)\n",
    "            valid = [nodes for nodes in distances if nodes[\"val\"][1] != 'inf' and nodes[\"node\"] in unvisited]  # consider all nodes that connect to current node and are not yet visited\n",
    "            v = [nodes[\"val\"][1] for nodes in distances if nodes[\"val\"][1] != 'inf' and nodes[\"node\"] in unvisited]  # take their path distances\n",
    "            if not valid:\n",
    "                current=visited[visited.index(current)-1]\n",
    "                unvisited.add(current)\n",
    "            if not valid and len(visited)==len(reachable):\n",
    "                break\n",
    "\n",
    "            for nodes in valid:  # from path distances select the one with the shortest distance\n",
    "                if nodes[\"val\"][1] == min(v):\n",
    "                    current = nodes[\"node\"]\n",
    "        path = reconstruct(distances, start, end)\n",
    "        length = distances[end][\"val\"][1]\n",
    "        return path, length\n",
    "\n",
    "    def bellman_ford(self, graph: list, start: int, end: int):\n",
    "        \"\"\"\n",
    "        Finds the shortest path between two stops using the Bellman-Ford algorithm.\n",
    "\n",
    "        Args:\n",
    "        - start (int): Index of the starting stop.\n",
    "        - end (int): Index of the ending stop.\n",
    "\n",
    "        Returns:\n",
    "        - tuple: A tuple containing the shortest path from the starting stop to the ending stop and the total travel time.\n",
    "        \"\"\"\n",
    "        num_stops = len(graph)\n",
    "        # Initialize distances from the starting stop to all other stops as infinity\n",
    "        distances = [float('inf')] * num_stops\n",
    "        distances[start] = 0\n",
    "\n",
    "        # Update distances by considering each stop and its neighbors\n",
    "        for _ in range(num_stops - 1):\n",
    "            for current_stop in range(num_stops):\n",
    "                for next_stop in range(num_stops):\n",
    "                    if graph[current_stop][next_stop] != 0 and distances[current_stop] != float('inf'):\n",
    "                        if distances[current_stop] + graph[current_stop][next_stop] < distances[next_stop]:\n",
    "                            distances[next_stop] = distances[current_stop] + graph[current_stop][next_stop]\n",
    "\n",
    "        # Check for negative cycles\n",
    "        '''for current_stop in range(num_stops):\n",
    "            for next_stop in range(num_stops):\n",
    "                if graph[current_stop][next_stop] != 0 and distances[current_stop] + graph[current_stop][next_stop] < distances[next_stop]:\n",
    "                    print(\"The transportation network contains a negative cycle\")\n",
    "                    return [], float('inf')'''\n",
    "\n",
    "        # Constructing the shortest path from end to start\n",
    "        path = [end]\n",
    "        current_stop = end\n",
    "        length = 0\n",
    "        while current_stop != start:\n",
    "            for next_stop in range(num_stops):\n",
    "                if graph[next_stop][current_stop] != 0 and distances[next_stop] == distances[current_stop] - graph[next_stop][current_stop]:\n",
    "                    path.insert(0, next_stop)\n",
    "                    length += graph[next_stop][current_stop]\n",
    "                    current_stop = next_stop\n",
    "                    break\n",
    "\n",
    "        return path, length\n",
    "\n",
    "\n",
    "    @staticmethod\n",
    "    def a_star(graph: list, start: int, goal: int) -> tuple:\n",
    "        \"\"\"\n",
    "        A* heuristic algorithm for finding the shortest path in a graph.\n",
    "        :param graph: a graph of nodes in adjacency matrix form\n",
    "        :param start: start node\n",
    "        :param goal: goal node\n",
    "        :return: tuple\n",
    "        \"\"\"\n",
    "\n",
    "        connection = sqlite3.connect(\"/Users/dominik/Documents/moje/programowanie/Phyton/Jakniedojade/JakNieDojade/mpk.db\")\n",
    "        cursor = connection.cursor()\n",
    "\n",
    "        def f_value(node: list) -> float:\n",
    "            \"\"\"\n",
    "            A* Helper function, determining the f_value of the given node.\n",
    "            :param node: node which f_value will be calculated\n",
    "            :return: f_value of the given node\n",
    "            \"\"\"\n",
    "            g_value = node[2]\n",
    "            h_value = np.sqrt((node[3] - x_goal) ** 2 + (node[4] - y_goal) ** 2)\n",
    "            f_value = g_value + h_value\n",
    "            return f_value\n",
    "\n",
    "        def reconstruct_path(closed_list: list, current: list) -> tuple:\n",
    "            \"\"\"\n",
    "            A* helper function to reconstruct the path from start to goal.\n",
    "            :param closed_list: list of all expanded nodes\n",
    "            :param current: node whose parent we search for in order to reconstruct the path\n",
    "            :return: tuple - [0] being the reconstructed path and [1] being the total cost of the path\n",
    "            \"\"\"\n",
    "\n",
    "            path = []\n",
    "            value = current[2]\n",
    "            while current is not None:\n",
    "                path.append(current[1])\n",
    "                parent = current[0]\n",
    "                current = next((node for node in closed_list if node[1] == parent), None)\n",
    "            return path[::-1], value\n",
    "\n",
    "        open_list = []\n",
    "        closed_list = []\n",
    "        x_start = cursor.execute(f\"select X from Przystanki where IdP = '{start}';\").fetchone()[0]\n",
    "        y_start = cursor.execute(f\"select Y from Przystanki where IdP = '{start}';\").fetchone()[0]\n",
    "        # THE WAY NODES IN OPEN AND CLOSED LISTS ARE STORED: [node's parent, node and node's g value, x coordinate, y coordinate]\n",
    "        open_list.append([None, start, 0, x_start, y_start])\n",
    "        x_goal = cursor.execute(f\"select X from Przystanki where IdP = '{goal}';\").fetchone()[0]\n",
    "        y_goal = cursor.execute(f\"select Y from Przystanki where IdP = '{goal}';\").fetchone()[0]\n",
    "\n",
    "        while len(open_list) != 0:  # executing as long as there are neighbours to nodes\n",
    "\n",
    "            # determining the neighbour in open_list with the lowest f-value\n",
    "            lowest_f = f_value(open_list[0])\n",
    "            current = open_list[0]\n",
    "            for node in open_list:\n",
    "                if f_value(node) < lowest_f:\n",
    "                    lowest_f = f_value(node)\n",
    "                    current = node\n",
    "\n",
    "            # checking whether current is goal - returning the path\n",
    "            if current[1] == goal:\n",
    "                closed_list.append(current)\n",
    "                return reconstruct_path(closed_list, current)\n",
    "\n",
    "            open_list.remove(current)\n",
    "            closed_list.append(current)\n",
    "            # for each node in the graph\n",
    "            for i in range(len(graph[0])):\n",
    "                # if the node is not the neighbour of current or is already in closed list, skip it\n",
    "                if graph[current[1]][i] == 0 or any(element[1] == i for element in closed_list):\n",
    "                    continue\n",
    "                else:\n",
    "                    # if the neighbour is already in open list\n",
    "                    if any(element[1] == i for element in open_list):\n",
    "                        neighbour_g = current[2] + graph[current[1]][i]\n",
    "                        for j in range(len(open_list)):\n",
    "                            if open_list[j][1] == i:\n",
    "                                # If the new g value is lower than the old g value, update the neighbor’s g value and update its parent to the current node\n",
    "                                if open_list[j][2] > neighbour_g:\n",
    "                                    x = cursor.execute(f\"select X from Przystanki where IdP = '{j}';\").fetchone()[0]\n",
    "                                    y = cursor.execute(f\"select Y from Przystanki where IdP = '{j}';\").fetchone()[0]\n",
    "                                    open_list[j] = [current[1], i, neighbour_g, x, y]\n",
    "\n",
    "                    # if the neighbour is not in the open list, add it to open list\n",
    "                    else:\n",
    "                        neighbour_g = current[2] + graph[current[1]][i]\n",
    "                        x = cursor.execute(f\"select X from Przystanki where IdP = '{i}';\").fetchone()[0]\n",
    "                        y = cursor.execute(f\"select Y from Przystanki where IdP = '{i}';\").fetchone()[0]\n",
    "                        open_list.append([current[1], i, neighbour_g, x, y])\n",
    "\n",
    "        # if the open list is empty and path has not been determined: no path possible, return false\n",
    "        return ([], )\n",
    "\n",
    "    def timer(self,graph:list,start:int,end:int)->tuple:\n",
    "        \"\"\"\n",
    "        Returns time of searching the shortest path with Dijkstra's algorithm and Bellman-Ford algorithm.\n",
    "        \"\"\"\n",
    "        start_d = tm.perf_counter_ns()\n",
    "        self.dijkstra(graph,start,end)\n",
    "        end_d = tm.perf_counter_ns()\n",
    "\n",
    "        start_bf = tm.perf_counter_ns()\n",
    "        self.bellman_ford(graph,start,end)\n",
    "        end_bf = tm.perf_counter_ns()\n",
    "\n",
    "        return end_d-start_d, end_bf-start_bf\n",
    "\n",
    "    def match_lines_to_path(self, path: list, lines: list) -> list:\n",
    "        \"\"\"\n",
    "        Matches public transportation lines to a path.\n",
    "        :param path: a path represented by a list with numbers of nodes in a graph.\n",
    "        :param lines: a list of public transportation lines represented by dictionaries.\n",
    "        :returns: returns a list of tuples [(stops, line)]\n",
    "        \"\"\"\n",
    "\n",
    "        def find_matching_subsequence(list1, list2) -> list:\n",
    "            \"\"\"\n",
    "            Helper function for finding a subsequence starting in the first node of list1\n",
    "            \"\"\"\n",
    "            first_element = list1[0]\n",
    "            list2 = list(dict.fromkeys(list2))  # remove duplicates from the list to prevent bugs\n",
    "\n",
    "            # Check if there are no subsequences\n",
    "            try:\n",
    "                start_index = list2.index(first_element)\n",
    "            except ValueError:\n",
    "                return []\n",
    "\n",
    "            # Check if list1 is a subsequence starting from this index in list2\n",
    "            if list2[start_index:start_index + len(list1)] == list1:\n",
    "                return list2[start_index:start_index + len(list1)]\n",
    "\n",
    "            longest_subsequence = []\n",
    "            for i in range(len(list1)):\n",
    "                # Check for the longest subsequence if starting index is in list2\n",
    "                if start_index + i < len(list2) and list1[i] == list2[start_index + i]:\n",
    "                    longest_subsequence.append(list1[i])\n",
    "                else:\n",
    "                    break\n",
    "\n",
    "            return longest_subsequence\n",
    "\n",
    "        route = []\n",
    "        path_temp = path.copy()\n",
    "\n",
    "        logging.info(f\"Starting match_lines_to_path with path: {path}\")\n",
    "\n",
    "        # Loop over path removing stops\n",
    "        while len(path_temp) > 0:\n",
    "            longest_overlap = []\n",
    "            longest_line = ''\n",
    "            for line in lines:\n",
    "                stops = line[0][\"Przystanki\"]\n",
    "                overlap = find_matching_subsequence(path_temp, stops)  # Find current overlap using helper function\n",
    "\n",
    "                # Check for overlaps in reversed line stops\n",
    "                stops.reverse()\n",
    "                overlap_reversed = find_matching_subsequence(path_temp, stops)\n",
    "                stops.reverse()\n",
    "\n",
    "                # Swap for reversed version if it's longer\n",
    "                if len(overlap) < len(overlap_reversed):\n",
    "                    overlap = overlap_reversed\n",
    "\n",
    "                # Check if current overlap is longer than the previous one, promote trams as they are usually preferred by the people\n",
    "                if len(overlap) > len(longest_overlap) or (line[0][\"Nazwa\"] in ['Tramwaj_na_Maslice', 'Tramwaj_na_Swojczyce', 'Tramwaj_Borowska_Szpital', 'Tramwaj_na_Klecine', 'Tramwaj_na_Jagodno', 'Tramwaj_na_Ołtaszyn', 'Tramwaj_na_Gajowice', 'Tramwaj_na_Gądów','Tramwaj_na_Psie_Pole'] and len(overlap)==len(longest_overlap)):\n",
    "                    longest_overlap = overlap\n",
    "                    longest_line = line[0][\"Nazwa\"]\n",
    "\n",
    "            logging.info(f\"Current longest_overlap: {longest_overlap} with line: {longest_line}\")\n",
    "\n",
    "            if longest_overlap:\n",
    "                name = f\"{longest_overlap[0]}-{longest_overlap[-1]}\"  # Initialize name for dictionary (it can't store lists as key)\n",
    "                route.append((name, longest_line))  # Add info to dictionary\n",
    "\n",
    "                # Remove current longest overlap from path\n",
    "                if len(longest_overlap) > 2:\n",
    "                    path_temp = path_temp[\n",
    "                                len(longest_overlap) - 1:]  # Update path_temp correctly, preserving the last element\n",
    "                else:\n",
    "                    path_temp = path_temp[1:]  # Update path_temp correctly\n",
    "\n",
    "                logging.info(f\"Updated path_temp: {path_temp}\")\n",
    "            else:\n",
    "                break\n",
    "\n",
    "            # Check if path has 1 element, which means we have finished matching lines, thus remove the last element\n",
    "            if len(path_temp) == 1:\n",
    "                path_temp.pop()\n",
    "\n",
    "        logging.info(f\"Final route: {route}\")\n",
    "\n",
    "        return route"
   ]
  },
  {
   "cell_type": "code",
   "execution_count": 6,
   "id": "17d7ed90",
   "metadata": {},
   "outputs": [],
   "source": [
    "class Visualizer:\n",
    "    def __init__(self):\n",
    "        project_root = find_project_root()\n",
    "        self.db = sqlite3.connect(project_root / 'mpk.db')\n",
    "        self.cursor = self.db.cursor()\n",
    "\n",
    "    def get_nodes_from_graph(self, graph: list, path = []) -> tuple:\n",
    "        \"\"\"\n",
    "        Converts a graph in adjacency matrix form into a collection of connections between nodes.\n",
    "        :param graph: a graph in adjacency matrix form.\n",
    "        :param start: node IDs for showing the shortest path between them on the graph.\n",
    "        :param end: node IDs for showing the shortest path between them on the graph.\n",
    "        :returns: returns (all connections, connections in the shortest path between stops given).\n",
    "        \"\"\"\n",
    "        sp = ShortestPath.ShortestPath()\n",
    "        connections = []\n",
    "        nodes_in_path = []\n",
    "\n",
    "        if path:\n",
    "            for i in range(len(path) - 1):\n",
    "                nodes_in_path.append((path[i], path[i + 1]))  # add adjacent nodes from the path extracted by the algorithm to the graphs nodes\n",
    "\n",
    "        else:\n",
    "            path = []\n",
    "\n",
    "        for j in range(len(graph)):\n",
    "            for k in range(len(graph)):\n",
    "                if j != k:\n",
    "                    if graph[j][k] != 0:\n",
    "                        connections.append((j, k))  # append connections between two nodes represented by j,k\n",
    "        return connections, nodes_in_path\n",
    "\n",
    "    def get_node_sizes(self, graph: list) -> dict:\n",
    "        \"\"\"\n",
    "        Adjusts node sizes in a graph based on the number of possible destinations from the stop that the node represents.\n",
    "        :param graph: a graph in adjacency matrix form.\n",
    "        :returns: returns a dictionary of node sizes corresponding to every node index.\n",
    "        \"\"\"\n",
    "        node_sizes = {}\n",
    "        for j in range(len(graph)):\n",
    "            counter = 0  # count the amount of connections from every node\n",
    "            for k in range(len(graph)):\n",
    "                if j != k and graph[j][k] != 0:\n",
    "                    counter += 1\n",
    "            if counter >= 5:  # for big nodes\n",
    "                node_sizes[j] = counter * 15\n",
    "            else:  # for small nodes\n",
    "                node_sizes[j] = 8  # possible change\n",
    "        return node_sizes\n",
    "\n",
    "    def get_vertice_styles(self, networkx_graph: nx.Graph, connections_in_path: list) -> tuple:\n",
    "        \"\"\"\n",
    "        Adjusts styling of networkx graph vertices for path vertices and other vertices.\n",
    "        :param networkx_graph: a networkx graph class with already existing edges.\n",
    "        :param connections_in_path: edges belonging to the shortest path between two nodes calculated in get_nodes_from_graph method.\n",
    "        :returns: a tuple of dictionaries with vertice colors and widths\n",
    "        \"\"\"\n",
    "        vertice_colors = {}\n",
    "        vertice_width = {}\n",
    "\n",
    "        for edge in networkx_graph.edges:\n",
    "            # check if edge is in path\n",
    "            # networkx doesn't allow duplicates thus also check for revers node IDs in an edge.\n",
    "            if edge in connections_in_path or (edge[1], edge[0]) in connections_in_path:\n",
    "                vertice_colors[edge] = 'purple'  # possible changes here\n",
    "                vertice_width[edge] = 4  # possible changes here\n",
    "            else:\n",
    "                vertice_colors[edge] = 'pink'  # possible changes here\n",
    "                vertice_width[edge] = 2  # possible changes here\n",
    "        return vertice_colors, vertice_width\n",
    "\n",
    "    def get_pos(self, networkx_graph: nx.Graph) -> dict:\n",
    "        \"\"\"\n",
    "        For each node gets its coordinates from the database.\n",
    "        :param networkx_graph: a networkx graph class with already existing nodes.\n",
    "        :returns: a dictionary with every node's coordinates.\n",
    "        \"\"\"\n",
    "        pos = {}\n",
    "        for node in networkx_graph.nodes:\n",
    "            coordinates = self.cursor.execute(f\"SELECT Y,X FROM Nowe_przystanki WHERE IdP = '{node}'\").fetchone()  # get nodes coordinates from the db\n",
    "            pos[node] = coordinates\n",
    "        return pos\n",
    "\n",
    "    def get_labels(self, networkx_graph: nx.Graph, node_sizes: dict) -> dict:\n",
    "        \"\"\"\n",
    "        For each node determine displayed label.\n",
    "        :param networkx_graph: a networkx graph class with already existing nodes.\n",
    "        :param node_sizes: a dictionary where each node ID has size assigned.\n",
    "        :returns: a dictionary with custom labels for each node.\n",
    "        \"\"\"\n",
    "        labels = {}\n",
    "        for node in networkx_graph.nodes:\n",
    "            if node_sizes[node] >= 75:  # check if node has more than 5 connection, terrible design needs changed\n",
    "                name = self.cursor.execute(f\"SELECT Nazwa FROM Nowe_przystanki WHERE IdP = '{node}'\").fetchone()  # get stop's name from the db\n",
    "                labels[node] = name[0]\n",
    "            else:\n",
    "                labels[node] = ''  # for small stops do not display any label\n",
    "        return labels\n",
    "\n",
    "    def draw_graph(self, graph: list,filename: str, path = []):  # mozna zmienic to zeby bralo start i end losowo, wtedy mozna dowolna trase zaznaczyc\n",
    "        \"\"\"\n",
    "        Draws a graph in an adjacency matrix form.\n",
    "        \"\"\"\n",
    "        connections, connections_in_path = self.get_nodes_from_graph(graph, path)  # possible change for simulation purposes\n",
    "        node_sizes = self.get_node_sizes(graph)\n",
    "\n",
    "        G = nx.Graph()\n",
    "        G.add_edges_from(connections)\n",
    "\n",
    "        vertice_colors, vertice_width = self.get_vertice_styles(G, connections_in_path)\n",
    "\n",
    "        pos = self.get_pos(G)\n",
    "        sizes = [node_sizes[node] for node in G.nodes]\n",
    "        colors = [vertice_colors[edge] for edge in G.edges()]\n",
    "        widths = [vertice_width[edge] for edge in G.edges()]\n",
    "        labels = self.get_labels(G, node_sizes)\n",
    "\n",
    "        plt.figure(figsize=(20, 20))\n",
    "        nx.draw_networkx_nodes(G, pos, node_size=sizes, node_color='grey')\n",
    "        nx.draw_networkx_edges(G, pos, edge_color=colors, width=widths)\n",
    "        nx.draw_networkx_labels(G, pos, labels=labels, font_size=6, font_color='black', font_weight='bold',\n",
    "                                verticalalignment='center', horizontalalignment='left',\n",
    "                                bbox=dict(facecolor='white', alpha=0.4, edgecolor='none',\n",
    "                                          boxstyle='round,pad=0.2'))\n",
    "        plt.savefig(filename)\n",
    "        plt.close()"
   ]
  },
  {
   "cell_type": "code",
   "execution_count": 7,
   "id": "82c03d9b",
   "metadata": {},
   "outputs": [],
   "source": [
    "con = sqlite3.connect('D:\\PyCharm\\PyCharm 2023.2.4\\JakNieDojade\\mpk.db')\n",
    "cursor = con.cursor()"
   ]
  },
  {
   "cell_type": "code",
   "execution_count": 8,
   "id": "b4772695",
   "metadata": {},
   "outputs": [],
   "source": [
    "file = open('D:\\PyCharm\\PyCharm 2023.2.4\\JakNieDojade\\Dane\\graph.json','r')\n",
    "graph = json.load(file)"
   ]
  },
  {
   "cell_type": "code",
   "execution_count": 9,
   "id": "e4722aa6",
   "metadata": {
    "scrolled": false
   },
   "outputs": [
    {
     "data": {
      "application/vnd.jupyter.widget-view+json": {
       "model_id": "0f18764fcfca48a19ae8a3200430af0f",
       "version_major": 2,
       "version_minor": 0
      },
      "text/plain": [
       "MapView(layout=Layout(height='400px', width='100%'))"
      ]
     },
     "metadata": {},
     "output_type": "display_data"
    },
    {
     "data": {
      "text/html": [
       "<div class=\"map-static-img-preview-37c6176d-507c-40cb-9ea3-fe9c48e2d6a6\"><img src=\"\"></img></div>"
      ],
      "text/plain": [
       "<IPython.core.display.HTML object>"
      ]
     },
     "metadata": {},
     "output_type": "display_data"
    },
    {
     "data": {
      "text/html": [
       "<div class=\"map-html-embed-preview-37c6176d-507c-40cb-9ea3-fe9c48e2d6a6\"></div>"
      ],
      "text/plain": [
       "<IPython.core.display.HTML object>"
      ]
     },
     "metadata": {},
     "output_type": "display_data"
    }
   ],
   "source": [
    "gis = GIS(api_key = 'AAPK32cfafb36cf845faabb512edf3385129OaqTvR2s5ASHCY-SAga4AWxlU94IqARqp-qIHkwqpisyy2PSWpkouNvwTO3a134W')\n",
    "map = gis.map()\n",
    "map"
   ]
  },
  {
   "cell_type": "code",
   "execution_count": 21,
   "id": "0e78e808",
   "metadata": {
    "ExecuteTime": {
     "end_time": "2024-06-01T20:59:13.587772400Z",
     "start_time": "2024-06-01T20:59:13.581792400Z"
    }
   },
   "outputs": [],
   "source": [
    "def draw_path(graph,start,end):\n",
    "    sp = ShortestPath()\n",
    "    p = sp.dijkstra(graph,start,end)[0]\n",
    "    print(p)\n",
    "    path = []\n",
    "    for stops in p:\n",
    "        yx = cursor.execute(f\"SELECT Y,X FROM Przystanki WHERE Idp = '{stops}'\").fetchone()\n",
    "        path.append([yx[0],yx[1]])\n",
    "    print(path)\n",
    "    polyline = Polyline(\n",
    "        {\n",
    "            \"paths\": path\n",
    "        }\n",
    "    )\n",
    "\n",
    "    polyline_attributes = {\"name\": \"Polyline\", \"description\": \"I am a Polyline\"} # zmienić na nazwy linii, opcjonalnie każdy fragment inną linią zaznaczyć innym kolorem \n",
    "\n",
    "    simple_line_symbol = {\n",
    "        \"type\": \"esriSLS\",\n",
    "        \"style\": \"esriSLSolid\",\n",
    "        \"color\": [255, 155, 128],\n",
    "        \"width\": 2,\n",
    "    }\n",
    "    map.draw(\n",
    "        shape=polyline,\n",
    "        symbol=simple_line_symbol,\n",
    "        attributes=polyline_attributes,\n",
    "        popup={\n",
    "            \"title\": polyline_attributes[\"name\"],\n",
    "            \"content\": polyline_attributes[\"description\"],\n",
    "        },\n",
    "    )\n"
   ]
  },
  {
   "cell_type": "code",
   "execution_count": 11,
   "id": "c2945a61",
   "metadata": {},
   "outputs": [],
   "source": [
    "def map_stops():\n",
    "    con = con = sqlite3.connect('D:\\PyCharm\\PyCharm 2023.2.4\\JakNieDojade\\mpk.db')\n",
    "    cursor = con.cursor()\n",
    "    yx_all = cursor.execute(\"SELECT Nazwa,Y,X FROM Przystanki\").fetchall()\n",
    "    for yx in yx_all:\n",
    "        point = Point({'x':yx[1],'y':yx[2]})\n",
    "        \n",
    "        simple_marker_symbol = {\n",
    "            \"type\": \"esriSMS\",\n",
    "            \"style\": \"esriSMSCircle\",\n",
    "            \"color\": [0, 0, 0], # zmienic kolory tutaj\n",
    "            \"outline\": {\"color\": [255, 255, 255], \"width\": 1},\n",
    "        }\n",
    "        \n",
    "        point_attributes = {\"name\": yx[0], \"description\": \"I am a point\"}  # jakis pomysl na description by sie przydal\n",
    "        \n",
    "        map.draw(\n",
    "            shape=point,\n",
    "            symbol=simple_marker_symbol,\n",
    "            attributes=point_attributes,\n",
    "            popup={\n",
    "                \"title\": point_attributes[\"name\"],\n",
    "                \"content\": point_attributes[\"description\"],\n",
    "            },\n",
    "        )\n",
    "map_stops()"
   ]
  },
  {
   "cell_type": "code",
   "execution_count": 24,
   "id": "7f6e0a19",
   "metadata": {},
   "outputs": [
    {
     "name": "stdout",
     "output_type": "stream",
     "text": [
      "[259, 769, 115, 757, 395, 325, 555, 509, 486, 224, 533, 36, 33, 70, 573, 715, 291, 35, 266, 351, 194, 88, 593, 595, 256, 574, 293, 899, 294, 300]\n",
      "[[17.005902651824226, 51.17959489315847], [16.99955545310727, 51.17837255894701], [16.998301913759743, 51.17596381345519], [16.993293528494245, 51.175628271268224], [16.994674494893893, 51.17334031466762], [16.997121184615278, 51.16913178356313], [16.99858997067332, 51.16607987839261], [17.003291795637253, 51.16228373870148], [17.010376425982304, 51.15748722948624], [17.017640526393667, 51.151021361918744], [17.020508875669904, 51.14801536493131], [17.02626258093067, 51.14166395962282], [17.02998278896388, 51.137405955668434], [17.03664895426128, 51.135844792966054], [17.043933440241048, 51.13680600489449], [17.048344124798884, 51.13727450809283], [17.053687278383467, 51.13793170102513], [17.057197787746514, 51.13521821025446], [17.065250678350605, 51.13205230482232], [17.069754619376962, 51.13603964860488], [17.074723706057206, 51.138029311952614], [17.082045173795425, 51.139580773126326], [17.11128446376349, 51.14572665756581], [17.115141545245102, 51.147213086884534], [17.120885786844102, 51.14672545646578], [17.128490011565773, 51.146500921113066], [17.136421437701294, 51.14562852466403], [17.141888075772435, 51.145421917902546], [17.14827720746089, 51.14508099707324], [17.15927659187198, 51.1436597863573]]\n"
     ]
    }
   ],
   "source": [
    "map = gis.map()\n",
    "map\n",
    "draw_path(graph,259,300)"
   ]
  },
  {
   "cell_type": "code",
   "execution_count": null,
   "id": "95447ad9",
   "metadata": {},
   "outputs": [],
   "source": []
  },
  {
   "cell_type": "code",
   "execution_count": 25,
   "id": "4ace8edc",
   "metadata": {},
   "outputs": [
    {
     "data": {
      "application/vnd.jupyter.widget-view+json": {
       "model_id": "13c1d6202d0748eeb14dafc722fe5344",
       "version_major": 2,
       "version_minor": 0
      },
      "text/plain": [
       "MapView(layout=Layout(height='400px', width='100%'))"
      ]
     },
     "metadata": {},
     "output_type": "display_data"
    },
    {
     "data": {
      "text/html": [
       "<div class=\"map-static-img-preview-321246d7-4bcb-4b6e-82cf-576edbe008bc\"><img src=\"\"></img></div>"
      ],
      "text/plain": [
       "<IPython.core.display.HTML object>"
      ]
     },
     "metadata": {},
     "output_type": "display_data"
    },
    {
     "data": {
      "text/html": [
       "<div class=\"map-html-embed-preview-321246d7-4bcb-4b6e-82cf-576edbe008bc\"></div>"
      ],
      "text/plain": [
       "<IPython.core.display.HTML object>"
      ]
     },
     "metadata": {},
     "output_type": "display_data"
    }
   ],
   "source": [
    "map = gis.map()\n",
    "map"
   ]
  },
  {
   "cell_type": "code",
   "execution_count": 26,
   "id": "9127acc1",
   "metadata": {},
   "outputs": [
    {
     "name": "stdout",
     "output_type": "stream",
     "text": [
      "[259, 769, 115, 757, 395, 325, 555, 509, 486, 224, 533, 36, 33, 70, 573, 715, 291, 35, 266, 351, 194, 88, 593, 595, 256, 574, 293, 899, 294, 300]\n",
      "[[17.005902651824226, 51.17959489315847], [16.99955545310727, 51.17837255894701], [16.998301913759743, 51.17596381345519], [16.993293528494245, 51.175628271268224], [16.994674494893893, 51.17334031466762], [16.997121184615278, 51.16913178356313], [16.99858997067332, 51.16607987839261], [17.003291795637253, 51.16228373870148], [17.010376425982304, 51.15748722948624], [17.017640526393667, 51.151021361918744], [17.020508875669904, 51.14801536493131], [17.02626258093067, 51.14166395962282], [17.02998278896388, 51.137405955668434], [17.03664895426128, 51.135844792966054], [17.043933440241048, 51.13680600489449], [17.048344124798884, 51.13727450809283], [17.053687278383467, 51.13793170102513], [17.057197787746514, 51.13521821025446], [17.065250678350605, 51.13205230482232], [17.069754619376962, 51.13603964860488], [17.074723706057206, 51.138029311952614], [17.082045173795425, 51.139580773126326], [17.11128446376349, 51.14572665756581], [17.115141545245102, 51.147213086884534], [17.120885786844102, 51.14672545646578], [17.128490011565773, 51.146500921113066], [17.136421437701294, 51.14562852466403], [17.141888075772435, 51.145421917902546], [17.14827720746089, 51.14508099707324], [17.15927659187198, 51.1436597863573]]\n"
     ]
    }
   ],
   "source": [
    "draw_path(graph,259,300)"
   ]
  },
  {
   "cell_type": "code",
   "execution_count": 43,
   "id": "2cf7c5da",
   "metadata": {},
   "outputs": [
    {
     "data": {
      "application/vnd.jupyter.widget-view+json": {
       "model_id": "d78c02c1c17643258be7f189490f36bb",
       "version_major": 2,
       "version_minor": 0
      },
      "text/plain": [
       "MapView(layout=Layout(height='400px', width='100%'))"
      ]
     },
     "metadata": {},
     "output_type": "display_data"
    },
    {
     "data": {
      "text/html": [
       "<div class=\"map-static-img-preview-312eda13-2562-4629-96f5-687519ccbfbb\"><img src=\"\"></img></div>"
      ],
      "text/plain": [
       "<IPython.core.display.HTML object>"
      ]
     },
     "metadata": {},
     "output_type": "display_data"
    },
    {
     "data": {
      "text/html": [
       "<div class=\"map-html-embed-preview-312eda13-2562-4629-96f5-687519ccbfbb\"></div>"
      ],
      "text/plain": [
       "<IPython.core.display.HTML object>"
      ]
     },
     "metadata": {},
     "output_type": "display_data"
    }
   ],
   "source": [
    "map = gis.map()\n",
    "map\n"
   ]
  },
  {
   "cell_type": "code",
   "execution_count": 44,
   "id": "1b8c7602",
   "metadata": {},
   "outputs": [
    {
     "name": "stdout",
     "output_type": "stream",
     "text": [
      "[3, 779, 276, 695, 95, 611, 645, 445, 622, 212, 712, 799, 656, 613, 505, 32, 479, 744, 12]\n",
      "[[16.963107473334045, 51.073997602922944], [16.963229133477736, 51.077346010396084], [16.9687470693037, 51.07638831205335], [16.97284118962041, 51.076336561127704], [16.97754799383596, 51.07660160743546], [16.98423984686341, 51.07738133758759], [16.99208278388362, 51.079433421722264], [17.001018765928563, 51.081741720709054], [17.006915872857498, 51.08469432093162], [17.012038690891746, 51.08638626845392], [17.01842214304806, 51.08491164842816], [17.02502604649022, 51.083890334818435], [17.030494320378956, 51.08335878151244], [17.03488914330517, 51.083498082602155], [17.04077621896258, 51.08316262649301], [17.049337952214465, 51.083007109561976], [17.053640874293475, 51.082935676158804], [17.059955498906287, 51.08372167539352], [17.065769946395573, 51.08544610886502]]\n"
     ]
    }
   ],
   "source": [
    "draw_path(graph,3,12)\n"
   ]
  }
 ],
 "metadata": {
  "kernelspec": {
   "display_name": "Python 3 (ipykernel)",
   "language": "python",
   "name": "python3"
  },
  "language_info": {
   "codemirror_mode": {
    "name": "ipython",
    "version": 3
   },
   "file_extension": ".py",
   "mimetype": "text/x-python",
   "name": "python",
   "nbconvert_exporter": "python",
   "pygments_lexer": "ipython3",
   "version": "3.9.16"
  }
 },
 "nbformat": 4,
 "nbformat_minor": 5
}
